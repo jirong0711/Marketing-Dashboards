{
 "cells": [
  {
   "cell_type": "code",
   "execution_count": 199,
   "metadata": {},
   "outputs": [],
   "source": [
    "import pandas as pd\n",
    "import numpy as np"
   ]
  },
  {
   "cell_type": "markdown",
   "metadata": {},
   "source": [
    "# 1. Dataset"
   ]
  },
  {
   "cell_type": "markdown",
   "metadata": {},
   "source": [
    "(1) tag dataset"
   ]
  },
  {
   "cell_type": "code",
   "execution_count": 16,
   "metadata": {},
   "outputs": [],
   "source": [
    "# tag preprocessing\n",
    "def tag(df):\n",
    "    tags = df[\"tags\"].apply(lambda x: x.split(','))\n",
    "    tags = tags.apply(lambda x: list(map(lambda x: x.replace(\"[\", \"\").replace(\"]\", \"\").replace(\"'\", \"\").strip(), x)))\n",
    "    tag_ls = []\n",
    "    for tag in tags:\n",
    "        tag_ls.extend(tag)\n",
    "    return tag_ls    "
   ]
  },
  {
   "cell_type": "code",
   "execution_count": 17,
   "metadata": {},
   "outputs": [],
   "source": [
    "insta = tag(insta)\n",
    "youtube = tag(youtube)\n",
    "tags = insta+youtube"
   ]
  },
  {
   "cell_type": "markdown",
   "metadata": {},
   "source": [
    "(2) Sales dataset"
   ]
  },
  {
   "cell_type": "code",
   "execution_count": 181,
   "metadata": {},
   "outputs": [],
   "source": [
    "sales = pd.read_csv(\"sales.csv\")"
   ]
  },
  {
   "cell_type": "markdown",
   "metadata": {},
   "source": [
    "# 2. Korean Analysis with cosine-similarity"
   ]
  },
  {
   "cell_type": "markdown",
   "metadata": {},
   "source": [
    "(1) match tag-sales"
   ]
  },
  {
   "cell_type": "code",
   "execution_count": 119,
   "metadata": {},
   "outputs": [],
   "source": [
    "kr_pd_nm = pd.unique(sale[\"**special-code**\"])\n",
    "kr_pd_nm = kr_pd_nm[~pd.isnull(kr_pd_nm)]"
   ]
  },
  {
   "cell_type": "code",
   "execution_count": 6,
   "metadata": {},
   "outputs": [],
   "source": [
    "def cleanText(text):\n",
    "    import re\n",
    "    text = re.sub('[0-9-=+,#/\\?:^$.@*\\\\\\\\\"~&(\\)\\[\\]\\<\\>\"]','',text)\n",
    "    return text"
   ]
  },
  {
   "cell_type": "code",
   "execution_count": 8,
   "metadata": {},
   "outputs": [],
   "source": [
    "#calculate distance between two words\n",
    "def calc_distance(a,b):\n",
    "    if a==b : return 0\n",
    "    a_len=len(a)\n",
    "    b_len=len(b)\n",
    "    if a==\"\" : return b_len \n",
    "    if b==\"\" : return a_len\n",
    "\n",
    "    matrix= [ []for i in range(a_len+1)]\n",
    "    for i in range(a_len+1) :\n",
    "        matrix[i] = [0 for j in range(b_len+1)]\n",
    "    for i in range(a_len+1):\n",
    "        matrix[i][0]=i   \n",
    "    for j in range(b_len+1):\n",
    "        matrix[0][j]=j\n",
    "    for i in range(1,a_len+1):\n",
    "        ac=a[i-1]  \n",
    "        for j in range(1, b_len+1):\n",
    "            bc=b[j-1] \n",
    "            cost=0 if (ac ==bc) else 1 \n",
    "            matrix[i][j] = min([  \n",
    "                matrix[i-1][j] + 1,\n",
    "                matrix[i][j-1] + 1,\n",
    "                matrix[i-1][j-1] + cost\n",
    "            ])\n",
    "    return matrix[a_len][b_len]"
   ]
  },
  {
   "cell_type": "code",
   "execution_count": 142,
   "metadata": {},
   "outputs": [],
   "source": [
    "def lev_cal_words(word, product_list, value):\n",
    "    import unicodedata\n",
    "    import math\n",
    "    min_rate = 100\n",
    "    min_product = []\n",
    "    word1 = word.replace(\" \",\"\")\n",
    "    word1 = unicodedata.normalize(\"NFC\",word1)\n",
    "    for product in product_list:\n",
    "        word2 = product.replace(\" \", \"\")\n",
    "        distance_rate = math.floor(((calc_distance(word1, word2))/(len(word2)))*10)\n",
    "        if  min_rate > distance_rate:\n",
    "            min_product = []\n",
    "            min_product.append(product)\n",
    "            min_rate = distance_rate\n",
    "        elif min_rate == distance_rate:\n",
    "            min_product.append(product)\n",
    "    if min_rate >= value:                #value depends on the language        \n",
    "        min_product = None\n",
    "    return min_product"
   ]
  },
  {
   "cell_type": "code",
   "execution_count": 148,
   "metadata": {
    "scrolled": false
   },
   "outputs": [],
   "source": [
    "def kr_tag_sales(tags, kr_pd_nm):\n",
    "    kr_tags = []; kr_products = []\n",
    "    for tag in tags:\n",
    "        value = lev_cal_words(tag, kr_pd_nm, 7)\n",
    "        if value != None:\n",
    "            for product in value:\n",
    "                kr_tags.append(tag)\n",
    "                kr_products.append(product)\n",
    "    df = pd.DataFrame(zip(kr_tags, kr_products), columns = [\"tags\", \"pd_nm\"])\n",
    "    return df"
   ]
  },
  {
   "cell_type": "code",
   "execution_count": 219,
   "metadata": {},
   "outputs": [],
   "source": [
    "kr_pd_nm = pd.unique(sales[\"**special_code**\"])\n",
    "kr_df = kr_tag_sales(tags, kr_pd_nm)\n",
    "kr_df = kr_df.groupby(\"pd_nm\").count().rename_axis(\"pd_nm\").reset_index()"
   ]
  },
  {
   "cell_type": "markdown",
   "metadata": {},
   "source": [
    "(2) match tag-sales count"
   ]
  },
  {
   "cell_type": "code",
   "execution_count": 224,
   "metadata": {},
   "outputs": [],
   "source": [
    "prod_amt = sales.groupby(\"PRIMARY_PROD_NM\").sum().rename_axis(\"PRIMARY_PROD_NM\").reset_index()\n",
    "kr_tag_sales = pd.merge(kr_df, prod_amt, left_on = \"pd_nm\", right_on = \"PRIMARY_PROD_NM\").drop(\"PRIMARY_PROD_NM\", axis=1)\n",
    "kr_tag_sales = kr_tag_sales.rename(columns = {\"tags\":\"tag_count\", \"pd_nm\": \"product\", \"PROD_BY_AMT\" : \"sales_amt\"})"
   ]
  },
  {
   "cell_type": "code",
   "execution_count": 226,
   "metadata": {},
   "outputs": [],
   "source": [
    "kr_tag_sales[\"log_tag_count\"] = kr_tag_sales[\"tag_count\"].apply(lambda x: np.log1p(x))\n",
    "kr_tag_sales[\"log_sales_amt\"] = kr_tag_sales[\"sales_amt\"].apply(lambda x: np.log1p(x))\n",
    "kr_tag_sales = kr_tag_sales.drop([\"tag_count\", \"sales_amt\"], axis=1)"
   ]
  },
  {
   "cell_type": "code",
   "execution_count": null,
   "metadata": {},
   "outputs": [],
   "source": []
  }
 ],
 "metadata": {
  "kernelspec": {
   "display_name": "Python 3",
   "language": "python",
   "name": "python3"
  },
  "language_info": {
   "codemirror_mode": {
    "name": "ipython",
    "version": 3
   },
   "file_extension": ".py",
   "mimetype": "text/x-python",
   "name": "python",
   "nbconvert_exporter": "python",
   "pygments_lexer": "ipython3",
   "version": "3.8.3"
  }
 },
 "nbformat": 4,
 "nbformat_minor": 4
}
